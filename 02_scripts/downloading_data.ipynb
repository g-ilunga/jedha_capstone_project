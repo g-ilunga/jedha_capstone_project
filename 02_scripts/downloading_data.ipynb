{
 "cells": [
  {
   "cell_type": "code",
   "execution_count": null,
   "metadata": {},
   "outputs": [],
   "source": [
    "#=====================================\n",
    "# Libraries\n",
    "#=====================================\n",
    "import cdsapi # Copernicus API\n",
    "import os\n",
    "import zipfile\n",
    "\n",
    "#======================================\n",
    "# Downloading the data\n",
    "#======================================\n",
    "\n",
    "# Project directory\n",
    "basedir = \"C:/Users/ilung/Documents/Jedha_bootcamp/capstone_project/\"\n",
    "\n",
    "# List of variables as they appear on the Copernicus platform\n",
    "pollutants_list = [\"nitrogen_dioxide\", \"ozone\",\"particulate_matter_2.5um\",\"particulate_matter_10um\",\"sulphur_dioxide\"]\n",
    "years_list = [\"2013\", \"2014\",\"2015\" ,\"2016\", \"2017\", \"2018\",\"2019\", \"2020\", \"2021\", \"2022\"]\n",
    "months_list = [\"01\", \"02\", \"03\",\"04\", \"05\", \"06\",\"07\", \"08\", \"09\",\"10\", \"11\", \"12\"]\n",
    "\n",
    "# List of name to be given to folder for each pollutants\n",
    "pollutant_folder_names = [\"no2\", \"o3\", \"pm2p5\", \"pm10\", \"so2\"]\n",
    "\n",
    "# Starting the download\n",
    "client = cdsapi.Client()\n",
    "\n",
    "for year in years_list:\n",
    "    year_target_folder = basedir + f\"data/raw/{year}\" #  Creating a folder for each year\n",
    "    os.makedirs(year_target_folder, exist_ok=True)\n",
    "\n",
    "    for pollutant, folder_name in zip(pollutants_list, pollutant_folder_names):\n",
    "        pollutant_folder = basedir + f\"data/raw/{year}/{folder_name}\" # Creating a folder to store each pollutant data\n",
    "        os.makedirs(pollutant_folder, exist_ok=True)\n",
    "\n",
    "        for month in months_list:\n",
    "            try:\n",
    "                dataset = \"cams-europe-air-quality-reanalyses\"\n",
    "                request = {\n",
    "                    \"variable\": pollutant,\n",
    "                    \"model\": [\"ensemble\"],\n",
    "                    \"level\": [\"0\"],\n",
    "                    \"type\": [\"validated_reanalysis\"],\n",
    "                    \"year\": year,\n",
    "                    \"month\": month\n",
    "                }\n",
    "                target = f\"{pollutant}_{year}_{month}.zip\" # The zip file name. It is saved by default in the directory where the script is located\n",
    "                client.retrieve(dataset, request, target)\n",
    "\n",
    "                # Unzipping data and storing it to the right folder\n",
    "                zip_file_path = basedir + f\"script/{target}\" # The zip file directory.\n",
    "                with zipfile.ZipFile(zip_file_path, \"r\") as zip_ref:\n",
    "                    zip_ref.extractall(pollutant_folder)\n",
    "\n",
    "                os.remove(zip_file_path) # Deleting downloaded zip file\n",
    "            \n",
    "            except Exception as e:\n",
    "                print (f\"Failed donwloading {target}. The following error was returned {e}\")"
   ]
  }
 ],
 "metadata": {
  "kernelspec": {
   "display_name": "python39",
   "language": "python",
   "name": "python3"
  },
  "language_info": {
   "codemirror_mode": {
    "name": "ipython",
    "version": 3
   },
   "file_extension": ".py",
   "mimetype": "text/x-python",
   "name": "python",
   "nbconvert_exporter": "python",
   "pygments_lexer": "ipython3",
   "version": "3.9.20"
  }
 },
 "nbformat": 4,
 "nbformat_minor": 2
}
