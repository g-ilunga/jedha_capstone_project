{
 "cells": [
  {
   "cell_type": "code",
   "execution_count": null,
   "metadata": {},
   "outputs": [],
   "source": [
    "#=====================================\n",
    "# Libraries\n",
    "#=====================================\n",
    "import xarray as xr\n",
    "import pandas as pd"
   ]
  },
  {
   "cell_type": "code",
   "execution_count": null,
   "metadata": {},
   "outputs": [],
   "source": [
    "#========================================\n",
    "# Preparing the preprocessing\n",
    "#========================================\n",
    "# Directory of the project\n",
    "basedir = \"C:/Users/ilung/Documents/Jedha_bootcamp/capstone_project/data\"\n",
    "\n",
    "# Importing the spreadsheet containing the name and geographic coordinates of cities\n",
    "cities = pd.read_excel(\"C:/Users/ilung/Documents/Jedha_bootcamp/capstone_project/data/clean/france_communes_wgs84.xlsx\")\n",
    "cities_list = cities[\"name\"].to_list()\n",
    "cities_long = cities[\"longitude\"].to_list()\n",
    "cities_lat = cities[\"latitude\"].to_list()\n",
    "\n",
    "# Variables to be used in the preprocessing\n",
    "pollutants_list = [\"no2\", \"pm2p5\", \"pm10\", \"o3\", \"so2\"] # Also the names used in the folders, files names and netcdf variables\n",
    "months_list = [str(x).zfill(2) for x in range(1, 13)] # Months from 01 to 12. Used in files name\n",
    "years_list = [str(x) for x in list(range(2013, 2023))] # From 2013 to 2022"
   ]
  },
  {
   "cell_type": "code",
   "execution_count": 36,
   "metadata": {},
   "outputs": [],
   "source": [
    "#===============================\n",
    "# Summarising the raw data\n",
    "#===============================\n",
    "\n",
    "for year in years_list:\n",
    "    pollutants_df = []\n",
    "\n",
    "    for pollutant in pollutants_list:\n",
    "        monthly_avg_list = []\n",
    "        concentration_avg_list = []\n",
    "\n",
    "        for month in months_list:\n",
    "            file = f\"{basedir}/raw/{year}/{pollutant}/cams.eaq.vra.ENSa.{pollutant}.l0.{year}-{month}.nc\"\n",
    "            dataset = xr.open_dataset(file, engine=\"netcdf4\")\n",
    "            \n",
    "            # Summarising the dataset from hourly to monthly average\n",
    "            monthly_avg = dataset[pollutant].mean(dim='time') # Compute the mean over the time dimension\n",
    "            monthly_avg_ds = monthly_avg.to_dataset(name=pollutant) # Create a new dataset with only latitude and longitude dimensions\n",
    "            monthly_avg_list.append(monthly_avg_ds) # A list of monthly average\n",
    "\n",
    "        # Summarising the monthly dataset to yearly\n",
    "        ds_list = [ds.expand_dims(time=[i+1]) for i, ds in enumerate(monthly_avg_list)] # Adding a time dimension to each dataset\n",
    "        merged_ds = xr.concat(ds_list, dim=\"time\") # Concatenating the dataset along the time dimension\n",
    "        yearly_avg = merged_ds[pollutant].mean(dim=\"time\") #  Creating the yearly average dataset\n",
    "        yearly_avg_ds = yearly_avg.to_dataset(name=pollutant)\n",
    "        \n",
    "        # Extraction of concentration for each city\n",
    "        for latitude, longitude in zip(cities_lat, cities_long):\n",
    "            concentration = yearly_avg_ds[pollutant].sel(lon = longitude , lat = latitude, method = \"nearest\").item() # Extraction of the year concentration\n",
    "            concentration_avg_list.append(concentration)\n",
    "        df = pd.DataFrame(concentration_avg_list, columns=[pollutant])\n",
    "        pollutants_df.append(df)\n",
    "\n",
    "    final_df = pd.concat(pollutants_df, axis=1)\n",
    "    df_final_merged = pd.concat([cities, final_df], axis=1)\n",
    "    df_final_merged.to_excel(f\"C:/Users/ilung/Documents/Jedha_bootcamp/capstone_project/data/clean/france/{year}.xlsx\", index=False)\n"
   ]
  }
 ],
 "metadata": {
  "kernelspec": {
   "display_name": "python39",
   "language": "python",
   "name": "python3"
  },
  "language_info": {
   "codemirror_mode": {
    "name": "ipython",
    "version": 3
   },
   "file_extension": ".py",
   "mimetype": "text/x-python",
   "name": "python",
   "nbconvert_exporter": "python",
   "pygments_lexer": "ipython3",
   "version": "3.9.20"
  }
 },
 "nbformat": 4,
 "nbformat_minor": 2
}
