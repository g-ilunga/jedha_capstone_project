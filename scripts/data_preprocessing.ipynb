{
 "cells": [
  {
   "cell_type": "code",
   "execution_count": null,
   "metadata": {},
   "outputs": [],
   "source": [
    "#=====================================\n",
    "# Libraries\n",
    "#=====================================\n",
    "import xarray as xr\n",
    "import os\n",
    "import pandas as pd\n",
    "import statistics\n",
    "#=====================================================\n",
    "# Preprocessing the data\n",
    "#=====================================================\n",
    "\n",
    "# Directory of the project\n",
    "basedir = \"C:/Users/ilung/Documents/Jedha_bootcamp/capstone_project/data\"\n",
    "\n",
    "# Importing the spreadsheet containing the name and geographic coordinates of cities\n",
    "cities = pd.read_excel(f\"{basedir}/raw/communes_paca_wgs84.xlsx\")\n",
    "cities_list = cities[\"Name\"].to_list()\n",
    "cities_long = cities[\"longitude\"].to_list()\n",
    "cities_lat = cities[\"latitude\"].to_list()\n",
    "\n",
    "# Variables to be used in the preprocessing\n",
    "pollutants_list = [\"no2\", \"pm2p5\", \"pm10\", \"o3\", \"so2\"] # Also the names used in the folders, files names and netcdf variables\n",
    "months_list = [str(x).zfill(2) for x in range(1, 13)] # Months from 01 to 12. Used in files name\n",
    "years_list = [str(x) for x in list(range(2013, 2023))] # From 2013 to 2022\n",
    "\n",
    "# Preprocessing\n",
    "for year in years_list: \n",
    "    all_pollutants = [] # The yearly average concentration of the pollutants\n",
    "    \n",
    "    for pollutant in pollutants_list:\n",
    "        year_average_cities = [] # Yearly average for all the cities for a single polluant\n",
    "\n",
    "        for city_name, longitude, latitude in zip(cities_list, cities_long, cities_lat):\n",
    "            hourly_value_year = [] # Monthly hourly data\n",
    "\n",
    "            for month in months_list:\n",
    "                file = f\"{basedir}/raw/{year}/{pollutant}/cams.eaq.vra.ENSa.{pollutant}.l0.{year}-{month}.nc\"\n",
    "                dataset = xr.open_dataset(file, engine=\"netcdf4\")\n",
    "                hourly_value_month = list(dataset[pollutant].sel(lon = longitude , lat = latitude, method = \"nearest\").values) # Single city. Single pollutant\n",
    "                hourly_value_year.extend(hourly_value_month) # Single city. Single pollutant.\n",
    "\n",
    "            year_average = statistics.mean(hourly_value_year) # Single city. Single pollutant.\n",
    "            year_average_cities.append(year_average) # List of concentrations. All cities. Single pollutant \n",
    "\n",
    "        all_pollutants.append(year_average_cities) # List of lists\n",
    "    pollutant_df = pd.DataFrame(list(map(list, zip(*all_pollutants))), columns=pollutants_list)\n",
    "    final_df = pd.concat([cities, pollutant_df], axis=1)\n",
    "    final_df.to_excel(f\"{basedir}/clean/{year}.xlsx\", index=False)\n"
   ]
  }
 ],
 "metadata": {
  "kernelspec": {
   "display_name": "python39",
   "language": "python",
   "name": "python3"
  },
  "language_info": {
   "codemirror_mode": {
    "name": "ipython",
    "version": 3
   },
   "file_extension": ".py",
   "mimetype": "text/x-python",
   "name": "python",
   "nbconvert_exporter": "python",
   "pygments_lexer": "ipython3",
   "version": "3.9.20"
  }
 },
 "nbformat": 4,
 "nbformat_minor": 2
}
